{
  "nbformat": 4,
  "nbformat_minor": 0,
  "metadata": {
    "colab": {
      "name": "1-numpy.ipynb",
      "version": "0.3.2",
      "provenance": [],
      "collapsed_sections": [],
      "include_colab_link": true
    },
    "kernelspec": {
      "name": "python3",
      "display_name": "Python 3"
    }
  },
  "cells": [
    {
      "cell_type": "markdown",
      "metadata": {
        "id": "view-in-github",
        "colab_type": "text"
      },
      "source": [
        "[View in Colaboratory](https://colab.research.google.com/github/ejabril/nltk-training/blob/master/1_numpy.ipynb)"
      ]
    },
    {
      "metadata": {
        "id": "qE48Xx14a9CR",
        "colab_type": "code",
        "colab": {
          "base_uri": "https://localhost:8080/",
          "height": 35
        },
        "outputId": "69c877e7-5b84-4ab8-c74c-56430067e18b"
      },
      "cell_type": "code",
      "source": [
        "subjects = ['match','science','english','cs']\n",
        "subjects[2] = 'English'\n",
        "subjects.append('filipino')\n",
        "\n",
        "scientist = {'Name':'Alan Turing',\n",
        "             'Field':'Mathematics'"
      ],
      "execution_count": 15,
      "outputs": [
        {
          "output_type": "stream",
          "text": [
            "['match', 'science', 'English', 'cs', 'filipino']\n"
          ],
          "name": "stdout"
        }
      ]
    },
    {
      "metadata": {
        "id": "XGz83nkBewbX",
        "colab_type": "code",
        "colab": {
          "base_uri": "https://localhost:8080/",
          "height": 35
        },
        "outputId": "98247868-bb83-461c-8bcf-90a77746bb36"
      },
      "cell_type": "code",
      "source": [
        "import numpy as np\n",
        "x = np.array([1,2,3,4,5])\n",
        "a = np.zeros((2,2))\n",
        "b = np.ones((2,2))\n",
        "c = np.random.randint(10,size =(5))\n",
        "d = np.random.random((2,2))\n",
        "\n",
        "print(np.sum(x))"
      ],
      "execution_count": 30,
      "outputs": [
        {
          "output_type": "stream",
          "text": [
            "15\n"
          ],
          "name": "stdout"
        }
      ]
    },
    {
      "metadata": {
        "id": "7NqiPMQKjeY6",
        "colab_type": "code",
        "colab": {
          "base_uri": "https://localhost:8080/",
          "height": 35
        },
        "outputId": "8ff86eed-4c02-464d-d0ad-b213c29c0a6f"
      },
      "cell_type": "code",
      "source": [
        "import numpy as np\n",
        "a = np.random.randint(58,size =(6))\n",
        "b = np.random.randint(10,size =(5))\n",
        "\n",
        "print(a)"
      ],
      "execution_count": 40,
      "outputs": [
        {
          "output_type": "stream",
          "text": [
            "[48 23 14 15 39 48]\n"
          ],
          "name": "stdout"
        }
      ]
    },
    {
      "metadata": {
        "id": "VRaACzOxj5ww",
        "colab_type": "code",
        "colab": {
          "base_uri": "https://localhost:8080/",
          "height": 1005
        },
        "outputId": "98ef8ee3-ecaf-44e0-f90e-1bf6a031cb15"
      },
      "cell_type": "code",
      "source": [
        "#Exercise Numpy\n",
        "import numpy as np\n",
        "A = np.matrix([[22,5,16,9]\n",
        "              ,[13,20,19,0]\n",
        "              ,[5,9,1,16] \n",
        "              ,[27,13,15,19]\n",
        "              ])\n",
        "B = np.matrix([[10,5,20,20]\n",
        "              ,[5,21,22,27]\n",
        "              ,[26,19,22,3]\n",
        "              ,[27,8,18,7]\n",
        "              ])\n",
        "c = [24,3,17,7,11,2,21,2,24,18,3,11,14,25,2,20]\n",
        "d = [3,15,24,22,19,24,4,29,6,3,20,1,11,25,26,6]\n",
        "\n",
        "#1\n",
        "print('Number 1:')\n",
        "print(np.add(A,B))\n",
        "#2\n",
        "print('Number 2:')\n",
        "print(np.subtract(A,B))\n",
        "#3\n",
        "print('Number 3:')\n",
        "print(np.multiply(A,B))\n",
        "#4\n",
        "print('Number 4:')\n",
        "print(np.matmul(A,B))\n",
        "#5\n",
        "print('Number 5:')\n",
        "print(np.add(c,d))\n",
        "#6\n",
        "print('Number 6:')\n",
        "print(np.subtract(c,d))\n",
        "#7\n",
        "print('Number 7:')\n",
        "print(np.multiply(c,d))\n",
        "#8\n",
        "print('Number 8:')\n",
        "print(np.matmul(c,d))\n",
        "#9\n",
        "print('Number 9:')\n",
        "print(np.add(A,10))\n",
        "#10\n",
        "print('Number 10:')\n",
        "print(np.add(B,10))\n",
        "#11\n",
        "print('Number 11:')\n",
        "print(np.add(c,15))\n",
        "#12\n",
        "print('Number 12:')\n",
        "print(np.add(d,15))\n",
        "#13\n",
        "print('Number 13:')\n",
        "print(np.add(np.multiply(2,A),np.multiply(2,B)))\n",
        "#14\n",
        "print('Number 14:')\n",
        "print(np.multiply(np.add(A,B),3))\n",
        "#15\n",
        "print('Number 15:')\n",
        "print((A - B + A -B + B)*4)"
      ],
      "execution_count": 81,
      "outputs": [
        {
          "output_type": "stream",
          "text": [
            "Number 1:\n",
            "[[32 10 36 29]\n",
            " [18 41 41 27]\n",
            " [31 28 23 19]\n",
            " [54 21 33 26]]\n",
            "Number 2:\n",
            "[[ 12   0  -4 -11]\n",
            " [  8  -1  -3 -27]\n",
            " [-21 -10 -21  13]\n",
            " [  0   5  -3  12]]\n",
            "Number 3:\n",
            "[[220  25 320 180]\n",
            " [ 65 420 418   0]\n",
            " [130 171  22  48]\n",
            " [729 104 270 133]]\n",
            "Number 4:\n",
            "[[ 904  591 1064  686]\n",
            " [ 724  846 1118  857]\n",
            " [ 553  361  608  458]\n",
            " [1238  845 1498 1069]]\n",
            "Number 5:\n",
            "[27 18 41 29 30 26 25 31 30 21 23 12 25 50 28 26]\n",
            "Number 6:\n",
            "[ 21 -12  -7 -15  -8 -22  17 -27  18  15 -17  10   3   0 -24  14]\n",
            "Number 7:\n",
            "[ 72  45 408 154 209  48  84  58 144  54  60  11 154 625  52 120]\n",
            "Number 8:\n",
            "2298\n",
            "Number 9:\n",
            "[[32 15 26 19]\n",
            " [23 30 29 10]\n",
            " [15 19 11 26]\n",
            " [37 23 25 29]]\n",
            "Number 10:\n",
            "[[20 15 30 30]\n",
            " [15 31 32 37]\n",
            " [36 29 32 13]\n",
            " [37 18 28 17]]\n",
            "Number 11:\n",
            "[39 18 32 22 26 17 36 17 39 33 18 26 29 40 17 35]\n",
            "Number 12:\n",
            "[18 30 39 37 34 39 19 44 21 18 35 16 26 40 41 21]\n",
            "Number 13:\n",
            "[[ 64  20  72  58]\n",
            " [ 36  82  82  54]\n",
            " [ 62  56  46  38]\n",
            " [108  42  66  52]]\n",
            "Number 14:\n",
            "[[ 96  30 108  87]\n",
            " [ 54 123 123  81]\n",
            " [ 93  84  69  57]\n",
            " [162  63  99  78]]\n",
            "Number 15:\n",
            "[[ 136   20   48   -8]\n",
            " [  84   76   64 -108]\n",
            " [ -64   -4  -80  116]\n",
            " [ 108   72   48  124]]\n"
          ],
          "name": "stdout"
        }
      ]
    },
    {
      "metadata": {
        "id": "YAQzLO0ZrpAo",
        "colab_type": "code",
        "colab": {}
      },
      "cell_type": "code",
      "source": [
        ""
      ],
      "execution_count": 0,
      "outputs": []
    }
  ]
}