{
  "nbformat": 4,
  "nbformat_minor": 0,
  "metadata": {
    "colab": {
      "name": "4-Introduction-to-tensorflow2.ipynb",
      "version": "0.3.2",
      "provenance": [],
      "collapsed_sections": [],
      "include_colab_link": true
    },
    "kernelspec": {
      "name": "python3",
      "display_name": "Python 3"
    },
    "accelerator": "GPU"
  },
  "cells": [
    {
      "cell_type": "markdown",
      "metadata": {
        "id": "view-in-github",
        "colab_type": "text"
      },
      "source": [
        "[View in Colaboratory](https://colab.research.google.com/github/ejabril/nltk-training/blob/master/4_Introduction_to_tensorflow2.ipynb)"
      ]
    },
    {
      "metadata": {
        "id": "VHnm7caB3vR4",
        "colab_type": "code",
        "colab": {}
      },
      "cell_type": "code",
      "source": [
        "import tensorflow as tf"
      ],
      "execution_count": 0,
      "outputs": []
    },
    {
      "metadata": {
        "id": "7F4Tg5B_342K",
        "colab_type": "code",
        "colab": {}
      },
      "cell_type": "code",
      "source": [
        "from sklearn.datasets import load_iris"
      ],
      "execution_count": 0,
      "outputs": []
    },
    {
      "metadata": {
        "id": "JrNXcOlf4lwH",
        "colab_type": "code",
        "colab": {}
      },
      "cell_type": "code",
      "source": [
        "import numpy as np"
      ],
      "execution_count": 0,
      "outputs": []
    },
    {
      "metadata": {
        "id": "EKnbX-Ic36Sw",
        "colab_type": "code",
        "colab": {}
      },
      "cell_type": "code",
      "source": [
        "x = load_iris().data\n",
        "y = load_iris().target"
      ],
      "execution_count": 0,
      "outputs": []
    },
    {
      "metadata": {
        "id": "B_ksNL6P4NSo",
        "colab_type": "code",
        "colab": {
          "base_uri": "https://localhost:8080/",
          "height": 191
        },
        "outputId": "9ab037c0-84ef-4ecd-9a9d-b13ec18dab21"
      },
      "cell_type": "code",
      "source": [
        "x[:10], y[:10]"
      ],
      "execution_count": 5,
      "outputs": [
        {
          "output_type": "execute_result",
          "data": {
            "text/plain": [
              "(array([[5.1, 3.5, 1.4, 0.2],\n",
              "        [4.9, 3. , 1.4, 0.2],\n",
              "        [4.7, 3.2, 1.3, 0.2],\n",
              "        [4.6, 3.1, 1.5, 0.2],\n",
              "        [5. , 3.6, 1.4, 0.2],\n",
              "        [5.4, 3.9, 1.7, 0.4],\n",
              "        [4.6, 3.4, 1.4, 0.3],\n",
              "        [5. , 3.4, 1.5, 0.2],\n",
              "        [4.4, 2.9, 1.4, 0.2],\n",
              "        [4.9, 3.1, 1.5, 0.1]]), array([0, 0, 0, 0, 0, 0, 0, 0, 0, 0]))"
            ]
          },
          "metadata": {
            "tags": []
          },
          "execution_count": 5
        }
      ]
    },
    {
      "metadata": {
        "id": "EROy7Pr24RZo",
        "colab_type": "code",
        "colab": {}
      },
      "cell_type": "code",
      "source": [
        "input_features = tf.placeholder(dtype=tf.float32, shape =[None, x.shape[1]])\n",
        "input_labels = tf.placeholder(dtype=tf.float32, shape=[None, 3])\n",
        "\n",
        "weights = tf.Variable(tf.random_normal(shape=[x.shape[1], 3]))\n",
        "biases = tf.Variable(tf.random_normal(shape=[3]))\n",
        "linear_model = tf.add(tf.matmul(input_features, weights), biases)\n",
        "\n",
        "loss = tf.reduce_mean(tf.square(linear_model - input_labels))\n",
        "train_op = tf.train.GradientDescentOptimizer(learning_rate = 0.001).minimize(loss)\n"
      ],
      "execution_count": 0,
      "outputs": []
    },
    {
      "metadata": {
        "id": "PuecNWJQ52GC",
        "colab_type": "code",
        "colab": {}
      },
      "cell_type": "code",
      "source": [
        "sess = tf.Session()\n"
      ],
      "execution_count": 0,
      "outputs": []
    },
    {
      "metadata": {
        "id": "I0Wk2O0i8W2Q",
        "colab_type": "code",
        "colab": {}
      },
      "cell_type": "code",
      "source": [
        "sess.run(tf.global_variables_initializer())"
      ],
      "execution_count": 0,
      "outputs": []
    },
    {
      "metadata": {
        "id": "bkX9EOXJ8kdZ",
        "colab_type": "code",
        "colab": {}
      },
      "cell_type": "code",
      "source": [
        "def next_batch(batch_size, features, labels):\n",
        "  indices = np.arange(start=0, stop=features.shape[0])\n",
        "  np.random.shuffle(indices)\n",
        "  indices = indices[:batch_size]\n",
        "  return features[indices], labels[indices]"
      ],
      "execution_count": 0,
      "outputs": []
    },
    {
      "metadata": {
        "id": "mfXCV2FH9ful",
        "colab_type": "code",
        "colab": {
          "base_uri": "https://localhost:8080/",
          "height": 191
        },
        "outputId": "831bb728-3d16-4edd-94c9-13e2f1a4e4e4"
      },
      "cell_type": "code",
      "source": [
        "batch_size = 16\n",
        "for epoch in range(10):\n",
        "  for index in range(int(x.shape[0] / batch_size)):\n",
        "    mini_batch_x, mini_batch_y = next_batch(batch_size=batch_size,features=x,labels=y)\n",
        "    from keras.utils import to_categorical\n",
        "    mini_batch_y = to_categorical(mini_batch_y)\n",
        "    _, train_loss = sess.run([train_op,loss],feed_dict ={\n",
        "        input_features:mini_batch_x,\n",
        "        input_labels:mini_batch_y\n",
        "    })\n",
        "  print('Epoch {}, loss: {}'.format(epoch, train_loss))"
      ],
      "execution_count": 31,
      "outputs": [
        {
          "output_type": "stream",
          "text": [
            "Epoch 0, loss: 0.6161666512489319\n",
            "Epoch 1, loss: 1.1328792572021484\n",
            "Epoch 2, loss: 0.541418731212616\n",
            "Epoch 3, loss: 0.833829402923584\n",
            "Epoch 4, loss: 0.7955736517906189\n",
            "Epoch 5, loss: 0.766181468963623\n",
            "Epoch 6, loss: 0.8946443200111389\n",
            "Epoch 7, loss: 0.8332743644714355\n",
            "Epoch 8, loss: 0.6022748351097107\n",
            "Epoch 9, loss: 0.6245644092559814\n"
          ],
          "name": "stdout"
        }
      ]
    },
    {
      "metadata": {
        "id": "Krcp3NhG_U-M",
        "colab_type": "code",
        "colab": {}
      },
      "cell_type": "code",
      "source": [
        ""
      ],
      "execution_count": 0,
      "outputs": []
    }
  ]
}